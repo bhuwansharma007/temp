{
 "cells": [
  {
   "cell_type": "markdown",
   "id": "d8d052b2",
   "metadata": {},
   "source": [
    "### Face Detection"
   ]
  },
  {
   "cell_type": "markdown",
   "id": "15dfa399",
   "metadata": {},
   "source": [
    "<img src= \"images/use-a-mask.gif\" width=\"200\" style=\"float:left\" >\n",
    "<img src= \"images/hand-sanitizer.gif\" width=\"200\" style=\"float:right\" >\n",
    "<img src= \"images/stay-at-home.gif\" width=\"200\" style=\"vertical-align:top\" >\n",
    "<img src= \"images/avoid-handshakes.gif\" width=\"200\" style=\"float:left\" >\n",
    "<img src= \"images/crowd-places.gif\" width=\"200\" style=\"float:right\" >\n",
    "<img src= \"images/dont-touch-face.gif\" width=\"200\" style=\"vertical-align:top\" >\n"
   ]
  },
  {
   "cell_type": "markdown",
   "id": "520e2599",
   "metadata": {},
   "source": []
  }
 ],
 "metadata": {
  "kernelspec": {
   "display_name": "Python 3",
   "language": "python",
   "name": "python3"
  },
  "language_info": {
   "codemirror_mode": {
    "name": "ipython",
    "version": 3
   },
   "file_extension": ".py",
   "mimetype": "text/x-python",
   "name": "python",
   "nbconvert_exporter": "python",
   "pygments_lexer": "ipython3",
   "version": "3.8.8"
  }
 },
 "nbformat": 4,
 "nbformat_minor": 5
}
